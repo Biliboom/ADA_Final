{
 "cells": [
  {
   "cell_type": "code",
   "execution_count": 1,
   "metadata": {},
   "outputs": [],
   "source": [
    "import pandas as pd\n",
    "import numpy as np\n",
    "import torch\n",
    "\n",
    "import matplotlib.pyplot as plt\n",
    "\n",
    "from cleaning import convert\n",
    "from cleaning import splitter\n",
    "from cleaning import text_preprocessing\n",
    "\n",
    "from sklearn.metrics import ConfusionMatrixDisplay, confusion_matrix, classification_report\n",
    "\n",
    "from transformers import AutoModel, AutoTokenizer\n",
    "from tqdm import tqdm\n",
    "from typing import List\n"
   ]
  },
  {
   "cell_type": "code",
   "execution_count": 2,
   "metadata": {},
   "outputs": [],
   "source": [
    "size = 500\n",
    "filename = \"imdb_df_500.csv\"\n",
    "root = f\"C:/Users/Bijan-PC/Documents/Coding/UNIL/Data Analysis/ADA_Project/ADA_Final/dat_cleaned/{size}\"      #base location for where all data files are\n",
    "df = convert(root,filename)            #Definining dataframe where all training and validation data will be pulled from\n",
    "df[\"id\"] = df.index                            #creating id column\n",
    "number_of_labels = len(df[\"label\"].value_counts())          #number of labels (will be used when training)"
   ]
  },
  {
   "cell_type": "code",
   "execution_count": 3,
   "metadata": {},
   "outputs": [
    {
     "data": {
      "text/plain": [
       "2"
      ]
     },
     "execution_count": 3,
     "metadata": {},
     "output_type": "execute_result"
    }
   ],
   "source": [
    "number_of_labels"
   ]
  },
  {
   "cell_type": "code",
   "execution_count": 3,
   "metadata": {},
   "outputs": [
    {
     "name": "stderr",
     "output_type": "stream",
     "text": [
      "c:\\Users\\Bijan-PC\\AppData\\Local\\Programs\\Python\\Python312\\Lib\\site-packages\\huggingface_hub\\file_download.py:1132: FutureWarning: `resume_download` is deprecated and will be removed in version 1.0.0. Downloads always resume when possible. If you want to force a new download, use `force_download=True`.\n",
      "  warnings.warn(\n"
     ]
    }
   ],
   "source": [
    "# Load the tokenizer and model\n",
    "tokenizer = AutoTokenizer.from_pretrained(\"sentence-transformers/all-MiniLM-L6-v2\")\n",
    "model = AutoModel.from_pretrained(\"sentence-transformers/all-MiniLM-L6-v2\")\n",
    "\n",
    "# Move model to GPU if available\n",
    "device = torch.device(\"cuda\" if torch.cuda.is_available() else \"cpu\")\n",
    "model = model.to(device)\n",
    "\n",
    "def get_embeddings(texts: List[str], batch_size: int):\n",
    "    all_embeddings = []\n",
    "    print(f\"Total number of records: {len(texts)}\")\n",
    "    print(f\"Num batches: {(len(texts) // batch_size) + 1}\")\n",
    "\n",
    "    # Extract embeddings for the texts in batches\n",
    "    for start_index in tqdm(range(0, len(texts), batch_size)):\n",
    "        batch_texts = texts[start_index:start_index + batch_size]\n",
    "\n",
    "        # Generate tokens and move input tensors to GPU\n",
    "        inputs = tokenizer(batch_texts, return_tensors=\"pt\", padding=True, truncation=True, max_length=128)\n",
    "        inputs = {key: value.to(device) for key, value in inputs.items()}\n",
    "\n",
    "        # Extract the embeddings. no_grad because the gradient does not need to be computed\n",
    "        # since this is not a learning task\n",
    "        with torch.no_grad():\n",
    "            outputs = model(**inputs)\n",
    "\n",
    "        # Get the last hidden stated and pool them into a mean vector calculated across the sequence length dimension\n",
    "        # This will reduce the output vector from [batch_size, sequence_length, hidden_layer_size]\n",
    "        # to [batch_size, hidden_layer_size] thereby generating the embeddings for all the sequences in the batch\n",
    "        last_hidden_states = outputs.last_hidden_state\n",
    "        embeddings = torch.mean(last_hidden_states, dim=1).cpu().tolist()\n",
    "\n",
    "        # Append to the embeddings list\n",
    "        all_embeddings.extend(embeddings)\n",
    "\n",
    "    return all_embeddings"
   ]
  },
  {
   "cell_type": "code",
   "execution_count": 4,
   "metadata": {},
   "outputs": [],
   "source": [
    "# Split into train and test\n",
    "X = df.text.values\n",
    "y = df.label.values\n",
    "\n",
    "X_test, y_test, X_train, y_train, X_val, y_val = splitter(X,y)"
   ]
  },
  {
   "cell_type": "code",
   "execution_count": 5,
   "metadata": {},
   "outputs": [
    {
     "data": {
      "text/plain": [
       "array(['i have sacrificed so much for this man and when i think about these sacrifices i have made i feel selfish',\n",
       "       'i loved the cozy color but all the dark items and lack of pop left me feeling dull instead of cozy',\n",
       "       'i am actually finding myself sympathetic to how trapped lana is feeling even though rationally i dont agree that i should feel sympathetic just because kk was really on tonight especially in those last three scenes',\n",
       "       'i feel a tender kiss on my forehead',\n",
       "       'i felt slighted makes me feel petty and certainly isn t a good enough reason on its own to run',\n",
       "       'i was impressed beautifeel shoes i was impressed beautifeel shoes august rd',\n",
       "       'ive been really enjoying the sense of connectivity i feel when reading a particularly amazing blog a piece of literary brilliance or bravery where the writer has made you feel feelings that wake you up and make you strong with anger or pride or the need to incite change',\n",
       "       'i don t feel saxually abused or bulled or anything',\n",
       "       'im feeling sort of meh im surprised how a couple bites of dark chocolate from trader joes whole foods or sees candies manages to be a better pick me up than any brilliant irish whiskey',\n",
       "       'i have learned that when i feel agitated it s time for me to stop and figure out what is causing it',\n",
       "       'i feel a little tender tonight',\n",
       "       'i do feel insecure because if there was a way to examine boyfriends he d be exempted',\n",
       "       'i really feel that i should be out doing something getting on a tube to be stubborn just going to one of the events i might just start walking in the direction of the city',\n",
       "       'i feel like being in a really bitchy mood',\n",
       "       'i do feel this weird need to get rid of the thoughts i have weird i think because i all too often dont do it anyway',\n",
       "       'i am hating the feeling like we acted like we were together and i liked it',\n",
       "       'i ask myself to feel entirely sure of my beliefs',\n",
       "       'i feel like tyler will be surprised to find a different and hopefully better relationship with his ex',\n",
       "       'i struggle with how i can really convey a deeper level of self to you guys instead of feeling like i just appear sporadically with cute outfits or funny stories',\n",
       "       'when i almost fell down from some rocks because i had been acting foolishly and playing dangerously',\n",
       "       'im home sick and feeling grumpy and tired so its probably best i not write a full post today',\n",
       "       'i feel fine to be honest',\n",
       "       'i feel like a character in a michael haneke film perhaps funny games where my home is not being invaded by thugs but my writing instruments on my computer are for sure under attack',\n",
       "       'im just blithering been to a winemakers lunch back home and feeling nicely pissed',\n",
       "       'i was feeling quite shocked because i was wondering why i could only fit it like so few points',\n",
       "       'i scan this slim fictional work however i realize that its a challenge encapsulating the very feel of this book sometimes hopeful sometimes depressing but never cloying',\n",
       "       'i think the picture with babydaddy says it all i look like such a teenage fan boy feeling a little stunned at the time and out of my element but so appreciative',\n",
       "       'i feel as though a lot of restaurants coffee shops excluded have been more hesitant to leverage the power of social networking for marketing i',\n",
       "       'i am feeling very enraged right now',\n",
       "       'i feel like todd is getting too stressed or tired with caleb i will take him because i dont want caleb to feel that frustration',\n",
       "       'i cant tell you how to feel but i wouldnt be surprised if you said you did hate her',\n",
       "       'i remember feeling really angry',\n",
       "       'i always had a feeling about her but not a love feeling i always knew that she was sadly gonna die someday and i hated the feeling',\n",
       "       'i would just sit staring blankly because i do not know what i feel even as a boy i can say i have been blessed and cursed with such powerful emotions that not even my mind can cope',\n",
       "       'i feel god been taking care of me and being considerate about me',\n",
       "       'i was considering it healthy because it was in a wrap and i always feel cheated when it s in a wrap and not delicious bread so for me it was a sacrifice',\n",
       "       'i have learned so much with him even now i still learn new things about rabbits i feel you always keep learning about them being amazed by them',\n",
       "       'im feeling generous to see the original giveaway offer click on the signup link i will email winners for mailing addresses within two weeks',\n",
       "       'i love getting out for a run when i feel like running without a second thought or a hesitation of fear that i will die or it will hurt too bad',\n",
       "       'i realized this weekend that i am feeling somewhat apprehensive about this surgery',\n",
       "       'i feel very nostalgic and sad about missing it next year and sitting out all the early registration excitement',\n",
       "       'i feel like god angels are giving me the thoughts ideas dreams but i thought about it and im curious if its satan demons too',\n",
       "       'im lost or feeling uncertain in metro manila and in most of the cities i had been to taxis serve as my safety net',\n",
       "       'i wish i could instead let them read my thoughts understand my journey feel my longing',\n",
       "       'i am betting on it s sad too at heart i am a yahoo fan but they make me feel like a clippers fan loyal but always wondering when is it going to happen for my team',\n",
       "       'i feel neurotic when i m dating is an understatement',\n",
       "       'i remember telling him all of my secrets my passions my dreams for the future and feeling so shocked when he would sit back and say so whats stopping you',\n",
       "       'i will browse through my books reading important sections making some rough notes if im feeling adventurous i may even venture into the realm of coloured pens',\n",
       "       'i feel dazed a lot of the time numb and then hit with feelings that are so unacceptable in this society you know the ones everyone wants to stop feeling anger sadness and fear because it makes them uncomfortable because they cannot handle their own anger sadness and fear i feel more isolated',\n",
       "       'ive learned that there are angels on earth who feel me as i feel them who stand by with a loving thought a healing heart or a steady hand just as i would also offer without a moments hesitation in return always',\n",
       "       'i feel they know a lot more than they have said and that the owner is troubled and that the details are none of my business',\n",
       "       'i use to keep myself going in this world especially when sometimes you feel overwhelmed with negativity',\n",
       "       'i know that feeling it was a frantic desire to keep everything secret',\n",
       "       'i have no desire to hurt her feelings or alienate her as a casual acquaintance but i m not interested in a threpeat of regrettable drunken makeouts',\n",
       "       'i was really glad to see him and it was nice to feel like id been missed too',\n",
       "       'i was feeling a little apprehensive about going',\n",
       "       'i learned something from the way i feel i know you think im being insincere from the way im treating you',\n",
       "       'i feel so amazing and theres something so freeing when you improve your relationship with food that i dont want to go back to eating how i did',\n",
       "       'i started t experience something i had not done previously and from time to time i get this creeping feeling in a calf muscle which is not restless leg syndrome',\n",
       "       'i feel so wronged by them i dont even think i could forgive them enough to speak with them',\n",
       "       'i feel a bit overwhelmed with upcoming appointments next week and having to leave work to go to them and then return to work again',\n",
       "       'i feel sad because levi certainly wont want to run a race against his typical peers because theres no way hell win',\n",
       "       'i feel fear i prefer to let myself be angry because it feels less vulnerable',\n",
       "       'i feel stressed and bored i organize the files on my computer',\n",
       "       'i feel the weight of this doubly because i have very fond memeories of my familys christmas traditions and i know lots of people who have bad memories associated with holiday time',\n",
       "       'i feel that i am defective for not having the same issues as those other girls at renfrew',\n",
       "       'i feel like such a paranoid freak but ive felt distant from these friends for a while and i wish they would just tell me whats going on',\n",
       "       'i struggling with feeling rejected',\n",
       "       'i feel always frantic when it gets so close by',\n",
       "       'i feel very drained',\n",
       "       'i cry at home on a daily basis at the moment as i feel so useless',\n",
       "       'im fine and waiting for it to pass i actually mention that i feel a bit funny',\n",
       "       'i did feel it was too rushed and didnt do justice to some of the events that take place in the final pages',\n",
       "       'i feel so helpless to help her with all this',\n",
       "       'i usually all out panic when i get this feeling but unpleasant is unpleasant',\n",
       "       'i didnt mentally feel that stressed',\n",
       "       'i was feeling very sympathetic for christina aguilera at this point',\n",
       "       'i get the feeling he is telling peter many people will be surprised',\n",
       "       'my friend got married and went abroad',\n",
       "       'i know it on cognitive level that they exist but i just feel like it was some fake',\n",
       "       'i feel like streching out by myself somewhere lively',\n",
       "       'i feel like i am just doomed to failure i am not strong enough to get past some of these things and yet god lets them come my way and just like i previously said',\n",
       "       'i began to feel agitated i began to feel fragile',\n",
       "       'i didnt really feel like one i guess just a longing for a cold refreshing beverage but it occured to me that i dont have a good baseball beverage',\n",
       "       'i feel quite rebellious when i leave a streak of rubber behind on the parking lot',\n",
       "       'i mentioned elsewhere i disliked the keyboard feel i disliked the position of the touchpad and i thought the screen resolution was too low for the dimensions',\n",
       "       'i always feel weird reading stuff that i know has been translated but it seems to flow pretty well pretty authentically',\n",
       "       'i feel disturbed by the more and more unreasonable lie my life is taking towards',\n",
       "       'i am feeling a tad intimidated i must admit by the challenges of looking after two tadpoles under two but millions of us do it right',\n",
       "       'i feel depressed when my priorities are a title how to create a balanced life tips to feel calm and grounded href http tinybuddha',\n",
       "       'watching an alcoholic woman who was approaching everyone at the wharf for cigarettes a prostitute in auckland elderly',\n",
       "       'i feel like wanna punish them cause theyre so naughty',\n",
       "       'i almost feel like i m being punished or something',\n",
       "       'i am still wavering between being able to accept that and enjoy the present regardless and feeling grouchy and stilted',\n",
       "       'i feel anxious because i have had such a good time working at my newspaper internship and i have enjoyed the people i work with every day',\n",
       "       'i fondly refer to them as allison and nicole and when i am not feeling so fond i refer to them as alarm clocks one and two ac',\n",
       "       'i feel like i am about to lose my ever loving mind',\n",
       "       'i want this feeling to go away because i cant stand not being distracted because its depressing',\n",
       "       'i feel jealous knowing that he is experiencing her in ways that i have fantasized more times than i can count',\n",
       "       'i had really felt quite good and safe about having the baby at home although there are always risks but i still feel blessed about how everything turned out',\n",
       "       'i rather be alone than to make someone feel unhappy',\n",
       "       'i am sure that you have people out there which will see me in platnium or anything else i do not feel does me any justice and conclude i look fabulous',\n",
       "       'i get feeling that i am very much loved though i do miss my grand mama i hope i see her soon',\n",
       "       'i am able to stay out by the woods behind my house and watch the fire pit with my imps gathered around i feel very content',\n",
       "       'i talk to my dad and the only thing i feel is happiness and very eager to start making memories with him',\n",
       "       'i feel ungrateful in criticizing such well meaning suggestions but i m afraid that in the aftermath of the iraq war aggressive military measures would be counterproductive',\n",
       "       'i feel that if today we live in a violent society where there is very little individual or collective tolerance it is because of what we went through in the past',\n",
       "       'i don t see mothers as good or bad or better or worse because of their career choices but i do feel disheartened when i hear the words i am just a mother',\n",
       "       'im not sure what i am afraid of hearing but i have a feeling if i just listen i will be surprised by what i find',\n",
       "       'i really can t explain this feeling this excitement i feel when i do lots of naughty stuff with my guy and i know the cam s on and people are watching and jerking off to what we re doing',\n",
       "       'im a big bad wolf with no feelings that will push many an ex into romantic saviour mode',\n",
       "       'i want you to all think of someone who makes you feel really really loved',\n",
       "       'i feel like its uaexorcised uaa few stubborn demons that have been lingering around for a long time',\n",
       "       'i feel joyful her baby is safe he is born and im sure hes just darling',\n",
       "       'im starting to feel quite agitated',\n",
       "       'i am thankful that on his first day back at school after thanksgiving break when kids are typically feeling the most jaded about life my son came home from school and told me about how excited he was to try to get into a great college',\n",
       "       'i guess i feel like i have been here that long so not that strange',\n",
       "       'i managed to feel impressed that i could get my body contorted into the seated leg press machine',\n",
       "       'when i happen to witness some sadistic acts',\n",
       "       'ive been feeling really funny recently thinking a lot about how everythings changed and nothings how i remember it anymore i love the life i have i just feel funny about change',\n",
       "       'i don t feel like discussing the details what happened has significantly impressed upon me and irked some of the people around me',\n",
       "       'i have been feeling doomed all winter or at least since this flu bug hit',\n",
       "       'im feeling sort of restless today',\n",
       "       'i also couldnt help feeling envious of the people who can afford to buy the fancy iphones',\n",
       "       'im feeling more generous its intelligent background music that sounds much better in a large living room than in the confined space of the car or worse still on your walkman',\n",
       "       'i ask a lot of questions and feel very nervous about eating out in supposedly gluten free places but i was oddly calm',\n",
       "       'i feel so amazed that god allows me to be a part of his work',\n",
       "       'i generally dont like passing the buck but i feel its important that its known that that last fic is entirely a href http fitz y',\n",
       "       'i didnt feel like getting anything but alex let me try some of his tea and i was pleasantly surprised',\n",
       "       'im not going to fix things with ml either by feeling awkward and frustrated and annoyed at some things she does',\n",
       "       'i feel like im shooting a scene for the most romantic movie ever',\n",
       "       'i come to eat the food if i continue with this loving level of attention to detail setting the table with care sitting in a supportive chair feeling my body as i sit feeling the fork in my hand using my senses to really experience the food the food tastes amazing',\n",
       "       'i get the feeling she s not impressed',\n",
       "       'i look good today i feel ok not made not happy nothing really going wrong',\n",
       "       'i hope this is all just part of the adjustment phase of our new life and i will eventually feel content and happy staying at home',\n",
       "       'i feel is a truly creative and fun convention',\n",
       "       'i feel insecure unworthy like a walking failure',\n",
       "       'im home now and not looking forward to spending the next hours before bed feeling cranky and bloated',\n",
       "       'i feel like this is a very smart and intelligent answer',\n",
       "       'i feel the way it is is the way that it was when i said i do i meant that i will til the end of all time be faithful and true devoted to you thats what i had in mind when i said i do well this old world keeps changin and the world stays the same for all who came before and it goes hand and hand',\n",
       "       'i feel like im getting paranoid',\n",
       "       'i feel a little bit uncertain about them a because they are toxic adult and caterpillar and make animals who try to eat them sick and b because the plant they breed on is a noxious weed and should be pulled out',\n",
       "       'i feel so blessed as i ve said numerous times before that i have met so many nice and caring people through the blogging world',\n",
       "       'i feel especially thrilled since i recently asked my sister erin what she thought of my blog regarding the cat kimono and she matter of factly replied idiotic not exactly the reaction i was hoping for',\n",
       "       'i feel its time for me to defend my reasons to liking this movie because ive met a lot of people who were far less then impressed with tarantinos half of the double feature',\n",
       "       'i love the feeling of being loved when you know things may not be perfect but it feels so right',\n",
       "       'i come to feel assured as part of your power to do what s in my greatest interest',\n",
       "       'i really hate the feeling of being hated by many for some reason i just can t pin point',\n",
       "       'i feel a bit helpless wanting to help',\n",
       "       'i just realize something and i feel so damn irritated now',\n",
       "       'i feel really privileged to be opening the show for benz punany',\n",
       "       'i have to start making some serious decision about my career path and im feeling extremely uncertain about everything',\n",
       "       'i feel that i did not document their lives enough over the past few years i dont remember the funny things they used to say a couple of years ago as all of it was drowned out by the worries of everyday life',\n",
       "       'i feel that a person is being wronged i would approach that person and say so',\n",
       "       'i left i looked into the coffin once again and i cant help but to feel so tortured inside',\n",
       "       'i feel a bit hesitant to give up these bright cool days of winter i cant help but feel a twinge of excitement as i see those sprouts',\n",
       "       'i feel kind of slutty',\n",
       "       'i still at times feel insecure and inadequate',\n",
       "       'i feel so strange now',\n",
       "       'i just dont cry in front of my friends no matter how terrible i feel but all hell broke loose and i did',\n",
       "       'i just feel shy and have nothing to offer not even just a talk',\n",
       "       'i feel very agitated by seana but i think thats just because im irritable in general because of not doing stuff and i think i need to remedy that by not doing drugs',\n",
       "       'i got a guy who got feeling on me maybe i am too greedy feeling that he is better than my boyfriend maybe i am too selfish wishing to have him to become my partner or what',\n",
       "       'i guess what really created my quantified self presentation last year is my interest in mindfulness on top of that and the way it had gotten to that was i kind of started to feel i guess almost victimized with my lack of understanding about myself',\n",
       "       'i feel utterly overwhelmed',\n",
       "       'i honestly don t have words to even try to describe how beyond humbled i feel i am amazed by the kindness and generosity of people who barely even know me',\n",
       "       'i felt incredibly sad because it didn t feel sincere',\n",
       "       'i like a little peace and harmony when it comes to my dating life of pda and cutesy banter but sometimes a little fight comes out in me when i feel im being wronged',\n",
       "       'i feel like i might hate him even more than i hated his brother',\n",
       "       'i sometimes get the feeling that theres this strange opposition between two imaginary sides that secretly agree with each other',\n",
       "       'i want to do a cool trick with my body but just because it feels joyful to do',\n",
       "       'i had a feeling it probably was so it wasnt really a shocker but i guess i was still kind of surprised when he decided to do it on the spot',\n",
       "       'i get a queasy feeling in my stomach at the thought of blatantly supporting monsanto by buying canola oil',\n",
       "       'i feel remarkably energetic',\n",
       "       'i feel my hope is in vain i think my head will explode first',\n",
       "       'i am feeling beaten up by the universe and beaten down',\n",
       "       'i bought a virtually fat free thousand islands and feeling very impressed with myself hold large quantities of this substance on the leaves of lettuce and cucumber with my friend but it will be total sugar becomes if you do not burn fat',\n",
       "       'i feel like it s my solemn duty to share some secrets about coloring your hair that you may not be privy to',\n",
       "       'ive tried a few and they always make me feel kind of funny and not like in a good way',\n",
       "       'i understand that chronically living makes some healthy people feel threatened or afraid',\n",
       "       'i haven t even been able to buy a single piece just because whenever i got to the website i feel like i m actually surfing the web for porn and i m assaulted by emaciated looking women women who look like they ve just done a line in the bathroom or drugged with rohypnol',\n",
       "       'i was feeling still reared its ugly head',\n",
       "       'i feel about this community of mad men and women i have built over the years whom not only allow me the honour of calling them friends but also return it',\n",
       "       'i also remember feeling pretty bitter about some people getting pregnant only for them to suffer a miscarriage',\n",
       "       'i feel like i am a very very dangerous human being right now he said',\n",
       "       'i feel overwhelmed talking about the feelings that come with chronic pain',\n",
       "       'im feeling cranky today so dont dont dont step on my toes',\n",
       "       'i feel like i m not just sort of supporting at the edges of a competent choir but rather not pulling my full weight in a floundering one',\n",
       "       'i love the papers here but the green took over for some reason and thats probably why i feel unsure about this master piece',\n",
       "       'i know it has a lot to do with the fact im supposed to go back to work in weeks and feel really frustrated that i havent found anything',\n",
       "       'i must say that it feels like years just like what you said thanks for being so romantic',\n",
       "       'i was hyperventilating and feeling really distressed',\n",
       "       'i feel so amazed by everything that god does',\n",
       "       'i have been feeling really horrible about this whole thing and how i am betraying her husband',\n",
       "       'i am feeling cautiously optimistic about dragon age mbourgon honestly yes it has flaws',\n",
       "       'i feel more than the other emotions compassionate',\n",
       "       'i am feeling somewhat cranky',\n",
       "       'i find myself feeling like a bitter old man who loves to swear and hates to be the centre of attention whats the word',\n",
       "       'i want everyone to know that its possible to feel homesick even when everything is going well',\n",
       "       'i could hear the whisper of the leaves outside my window and feel the delicate moonlight balanced on my skin',\n",
       "       'i bought a book of short stories feeling really quite fond of them lately two postcards and the found',\n",
       "       'im not so sure i want to give up the nights when i feel her eyes on me curious analytical and we have drunken talks about our futures',\n",
       "       'i stare the window glass i feel so surprised',\n",
       "       'im feeling cranky and its mostly the pain',\n",
       "       'i wake up i feel exhausted from running all night',\n",
       "       'i end up feeling as my lovely obgyn put it like a slug',\n",
       "       'i started to feel impressed to share my testimony with one of my very best friends',\n",
       "       'i feel like ive reached the point where i dont worry what i think everyone else will find funny and just do what i feel is funny and thats what the unfortunate case of mr',\n",
       "       'i feel that the users those that choose formula over bfing without trying of these products do not need to be shamed they are just victims of all that brainwashing',\n",
       "       'i feel the need and have scripture that instructs me tosurround myself with people who respect and honor god who serve him who are loyal to him who honor him',\n",
       "       'i already feel burdened because i really want the students to learn from me but seeing that they seemed to have not really learned from the last teacher and that there is no way i can use the curriculum to any effect i went into a minor panic',\n",
       "       'i had worked to get there the feeling was actually quite pleasant',\n",
       "       'i feel really overwhelmed with mine',\n",
       "       'i am feeling totally stressed out and tired',\n",
       "       'i feel really lame',\n",
       "       'i can feel his gentle nudging to begin to step on out into some things he has told me',\n",
       "       'i feel like i have got a lot of career left but i know how precious it is and how difficult it is to right the ship and how difficult it is to be competitive and compete in this series',\n",
       "       'i did that and i feel i was really successful',\n",
       "       'i dont know if its pregnancy brain as ive heard people call it or something else entirely but i know that even when im talking with friends i feel distracted like i cant quite put my full attention into what theyre saying',\n",
       "       'i have everything done bar a few loose ends that i can easily tie up by the end of the week and everything else on the other guys end seems to be going really smoothly so why so do i still feel so uptight nervous and uneasy about it',\n",
       "       'i wonder if it will feel strange or just feel like a normal station',\n",
       "       'i feel weird saying that on my blog which is technically part of my business but its true',\n",
       "       'i can t help but feel apprehensive about our team s chances of advancing through the playoffs',\n",
       "       'im not feeling grumpy at all after my larkin day but ill raise another pint to him anyway',\n",
       "       'i feel so helpless here watch my eyes are filled with fear tell me do you feel the same',\n",
       "       'i had a feeling it would be a lovely warm day',\n",
       "       'i suppose when i feel cranky about the cold snow here',\n",
       "       'i awoke feeling very shaky but better',\n",
       "       'i feel even more stunned my eyes wide at the idea of connor being the desperate one',\n",
       "       'i feel respected and that i matter to you',\n",
       "       'i can t help but feel fearful or worried',\n",
       "       'i feel like we missed something',\n",
       "       'i started to feel a lot less pissed',\n",
       "       'i knit a small square swatch and brought it to work so i could stretch it when feeling stressed',\n",
       "       'it was in march when one of my fellow students borrowed my wristwatch and after sometime he broke a glass of that watch i got angry when he was telling me but the anger didnt take long to fade',\n",
       "       'i keep expecting to feel devastated the extraordinary stuff i took for granted as real for so many years suddenly turns out to be quite pedestrian',\n",
       "       'i may turn your attention my way one moment i feel uptight on a saturday night hearts are worn in these dark ages i love the time and in between out through the foggy window there under a blackened sky across the evening sky all the birds are leaving to the sea to the sea let me follow',\n",
       "       'im feeling super emotional my roommate always gives me the same advice go eat a hotdog take a nap go sit on the toilet go splash water on your face thanks hamza p',\n",
       "       'i cannot put into words the way you make me feel i never thought i could be so enthralled with adoration and kindness',\n",
       "       'i need to do for work tomorrow feeling burdened by the tedium of the mundane world wishing for something or someone to appear and have a conversation with me about magick tarot wands spells meditation etc',\n",
       "       'i was really happy to go along with the changing moods between sacred theatre ness quite buddhist feeling i thought and the deliberately funny clowning and jokes made by the cast and was struck again by the fact that you can probably sell anything to the english if you also put enough jokes in',\n",
       "       'i woke up feeling very strange',\n",
       "       'ill dance for joy if you give me gen ill squee with glee angst is delicious fluff is fun crack is addictive and character studies that make me think and feel are always treasured',\n",
       "       'i have been feeling like this is my catch phrase you only need me if youre needy',\n",
       "       'i have a feeling most or hopefully all of the episodes im not fond of are in season and im looking forward to diving into season and seeing if i can recognize the episodes quicker',\n",
       "       'i must say though that turning feels rather sad in a way',\n",
       "       'im feeling frustrated losing touch with people i once had creative connections with',\n",
       "       'i went to an lds step meeting and was so overwhelmed by evil feelings and just broke down and said so at the meeting and expressed how low i felt and how ready i was for these feelings to leave my body',\n",
       "       'i feel the precious of the moment',\n",
       "       'i saw in the window of the shop a vinyl and i couldnt help feeling surprised',\n",
       "       'i feel nostalgic sometimes for that feeling of communitythe excitement of seeing new comments and responding to them',\n",
       "       'ive been feeling discouraged and blah in the mundane moments of life',\n",
       "       'i know why im angry i know why i feel resentful',\n",
       "       'i was again feeling a little overwhelmed and concerned and mount dora and my dreams felt very far away',\n",
       "       'i feel creeped out by him so much why can t i just be hated and ignored',\n",
       "       'i feel like i never feel assured that i did even alright on any test i ve taken in college yet',\n",
       "       'i do feel a bit curious too of how excited i am towards this year',\n",
       "       'i suppose the bottom line it has left me with an empty feeling along with thinking who is the selfish one and also never brought my our daughter to be so blinked in her views',\n",
       "       'im feeling pretty sorry for myself thus my excuse for allowing myself the finer indulgences in life in other words a lunch of chocolate',\n",
       "       'i think im feeling nervous about the quilting',\n",
       "       'i feel really really pissed off but i dont want to show it because of some reasons',\n",
       "       'i feel pretty special knowing that youre ours',\n",
       "       'i dont know that i have gotten to the point yet where i feel cute',\n",
       "       'i was feeling pretty strange like dinosaur soldier after i read them because in a weird sort of adult or perhaps college aged way my brain was analyzing the books',\n",
       "       'i was still feeling righteously wronged',\n",
       "       'i truly feel amazing and so accomplished',\n",
       "       'i didn t really feel anything for her i had to admit to myself that i was very curious about her and what she did',\n",
       "       'i said ive known her and had feelings for her for so long im not going to let something petty like me not getting along with her friends get in the way of something that i think has major potential',\n",
       "       'i hope five days in youre still feeling hopeful and fancy free',\n",
       "       'i also have to attire my regular moisturizer and an oil based primer below it yet with all those points along my skin color feels and looks tender and great all time of day something thats normally not attainable to me',\n",
       "       'i feel like i live for friday when i have my weigh in and then i think phew got that over with let s eat naughty today',\n",
       "       'i woke up feeling grumpy tired unhappy and just plain sick of things',\n",
       "       'i still think that i dont have partner because i m not lovable feeling insecure then the controller can always attack me for being a loser',\n",
       "       'i feel much pressure and i afraid that i cant do well',\n",
       "       'id like to think that every child male and female feels like that at some point though so i dont have to look back and think how exceptionally rotten i was',\n",
       "       'i emerged from the book feeling somewhat dazed and exhausted having read it from beginning to end within a hour period and i m not entirely sure what i feel about it',\n",
       "       'im feeling sentimental for sale a bration this year yes i am feeling sentimental for sale a bration this year',\n",
       "       'i feel bad though',\n",
       "       'i feel like i have shaken the hand of death here',\n",
       "       'i seem to have forgotten my panties does that make me a bad girl i feel so slutty without them',\n",
       "       'i have clarity and it feels amazing',\n",
       "       'i am thankful that i have a job where i am not restricted by set hours and where i feel valued and supported',\n",
       "       'im at a place with erin where i feel relaxed and secure about our friendship',\n",
       "       'i feel the longing for my little corner of the internet',\n",
       "       'i was back to feeling passionate about my classes',\n",
       "       'i hope they can feel the connection i have when i snap something that i feel is a reflection of gods beauty and a work of his creative hand nick says',\n",
       "       'i can t help feeling like perhaps she wasn t as impressed by this ice breaker as i had expected her to be',\n",
       "       'im loving how im feeling amp really loving how im looking',\n",
       "       'i have the day off of work i feel just soooo grumpy i think it',\n",
       "       'i have seen in myself and others around me is there is a tendency to think that you cant love yourself because you feel that by loving yourself you accept who you are and become complacent',\n",
       "       'i feel absolutely terrible about laying my burdens at someone elses feet and expecting any kind of support or sympathy',\n",
       "       'i am feeling a bit envious about this guy so i am going to share with you my deepest thoughts about him and perhap',\n",
       "       'i may be moving less weight but im moving it further these days and it feels fabulous',\n",
       "       'i still feel blessed to be able to do that',\n",
       "       'i feel as though i am the only one hurting about the ending of a once delicate friendship',\n",
       "       'i drank alomo with a bottle of sprite and i offered him the second alomo but he told me he was not really feeling fine and didnt feel like drinking',\n",
       "       'i found myself feeling increasingly agitated and frustrated',\n",
       "       'i have artist block i feel inhibited i plan in editing the hatching out',\n",
       "       'i have resisted writing anything about the us detention of prisoners at guantanamo bay until now as i feel so enraged about it that i felt sure i would be able to contribute nothing useful other than a long rant',\n",
       "       'i feel fine take'], dtype=object)"
      ]
     },
     "execution_count": 5,
     "metadata": {},
     "output_type": "execute_result"
    }
   ],
   "source": [
    "X_test"
   ]
  },
  {
   "cell_type": "code",
   "execution_count": 6,
   "metadata": {},
   "outputs": [],
   "source": [
    "X_train = pd.DataFrame(X_train, columns=['text'])\n",
    "X_val = pd.DataFrame(X_val, columns=['text'])\n",
    "X_test = pd.DataFrame(X_test, columns=['text'])\n",
    "\n",
    "y_train = pd.Series(y_train)\n",
    "y_test = pd.Series(y_test)\n",
    "y_val = pd.Series(y_val)"
   ]
  },
  {
   "cell_type": "code",
   "execution_count": 7,
   "metadata": {},
   "outputs": [
    {
     "name": "stdout",
     "output_type": "stream",
     "text": [
      "Cleaned 300 records in dataset\n",
      "Cleaned 2400 records in dataset\n",
      "Cleaned 300 records in dataset\n"
     ]
    }
   ],
   "source": [
    "for dataset in [X_test, X_train, X_val]:\n",
    "    dataset[\"text_cleaned\"] = dataset[\"text\"].apply(lambda x: text_preprocessing(x))\n",
    "    print(f'Cleaned {len(dataset[\"text_cleaned\"])} records in dataset')"
   ]
  },
  {
   "cell_type": "code",
   "execution_count": 8,
   "metadata": {},
   "outputs": [
    {
     "name": "stdout",
     "output_type": "stream",
     "text": [
      "Counter({4: 411, 0: 407, 2: 407, 1: 402, 5: 387, 3: 386})\n"
     ]
    }
   ],
   "source": [
    "from collections import Counter\n",
    "\n",
    "# Get class counts\n",
    "print(Counter(y_train))"
   ]
  },
  {
   "cell_type": "code",
   "execution_count": 9,
   "metadata": {},
   "outputs": [
    {
     "name": "stdout",
     "output_type": "stream",
     "text": [
      "Total number of records: 2400\n",
      "Num batches: 10\n"
     ]
    },
    {
     "name": "stderr",
     "output_type": "stream",
     "text": [
      "100%|██████████| 10/10 [00:00<00:00, 13.93it/s]\n"
     ]
    },
    {
     "name": "stdout",
     "output_type": "stream",
     "text": [
      "Total number of records: 300\n",
      "Num batches: 2\n"
     ]
    },
    {
     "name": "stderr",
     "output_type": "stream",
     "text": [
      "100%|██████████| 2/2 [00:00<00:00, 44.22it/s]\n"
     ]
    },
    {
     "name": "stdout",
     "output_type": "stream",
     "text": [
      "Total number of records: 300\n",
      "Num batches: 2\n"
     ]
    },
    {
     "name": "stderr",
     "output_type": "stream",
     "text": [
      "100%|██████████| 2/2 [00:00<00:00, 42.30it/s]\n"
     ]
    }
   ],
   "source": [
    "\n",
    "# Get embeddings for the training and test set\n",
    "train_embeddings = get_embeddings(texts=X_train[\"text_cleaned\"].tolist(), batch_size=256)\n",
    "train_embeddings_df = pd.DataFrame(train_embeddings)\n",
    "\n",
    "test_embeddings = get_embeddings(texts=X_test[\"text_cleaned\"].tolist(), batch_size=256)\n",
    "test_embeddings_df = pd.DataFrame(test_embeddings)\n",
    "\n",
    "val_embeddings = get_embeddings(texts=X_val[\"text_cleaned\"].tolist(), batch_size=256)\n",
    "val_embeddings_df = pd.DataFrame(val_embeddings)"
   ]
  },
  {
   "cell_type": "code",
   "execution_count": 10,
   "metadata": {},
   "outputs": [
    {
     "name": "stdout",
     "output_type": "stream",
     "text": [
      "There are 1 GPU(s) available.\n",
      "We will use the GPU: NVIDIA GeForce RTX 4080 SUPER\n"
     ]
    }
   ],
   "source": [
    "if torch.cuda.is_available():    \n",
    "\n",
    "    # Tell PyTorch to use the GPU.    \n",
    "    boost_device = torch.device(\"cuda\")\n",
    "\n",
    "    print('There are %d GPU(s) available.' % torch.cuda.device_count())\n",
    "\n",
    "    print('We will use the GPU:', torch.cuda.get_device_name(0))\n",
    "\n",
    "# If not the cpu will be used\n",
    "else:\n",
    "    print('No GPU available, using the CPU instead.')\n",
    "    boost_device = torch.device(\"cpu\")"
   ]
  },
  {
   "cell_type": "code",
   "execution_count": 11,
   "metadata": {},
   "outputs": [],
   "source": [
    "from sklearn.model_selection import GridSearchCV\n",
    "import xgboost as xgb\n",
    "\n",
    "def train_model(data: pd.DataFrame, labels: pd.Series):\n",
    "\n",
    "    # Initialize the XGBoost Classifier\n",
    "    xgb_clf = xgb.XGBClassifier(objective=\"multi:softmax\",\n",
    "                                num_class = number_of_labels,\n",
    "                                device=boost_device,\n",
    "                                random_state=3137)\n",
    "\n",
    "    # Define hyperparameters and values to tune\n",
    "    param_grid = {\n",
    "        'max_depth': [5, 6, 7, 8],\n",
    "        'eta': np.arange(0.05, 0.3, 0.05)\n",
    "    }\n",
    "\n",
    "    print(f\"Number of rows in training data: {len(data)}\")\n",
    "\n",
    "    # Perform hyperparameter tuning using GridSearchCV\n",
    "    grid_search = GridSearchCV(estimator=xgb_clf, param_grid=param_grid, scoring=\"roc_auc_ovo\",\n",
    "                               cv=5, verbose=3)\n",
    "    grid_search.fit(data, labels)\n",
    "\n",
    "    # Get the best hyperparameters\n",
    "    best_max_depth = grid_search.best_params_['max_depth']\n",
    "    best_eta = grid_search.best_params_['eta']\n",
    "\n",
    "    final_xgb_clf = xgb.XGBClassifier(objective=\"multi:softmax\",\n",
    "                                      max_depth=best_max_depth,\n",
    "                                      eta=best_eta,\n",
    "                                      device=boost_device,\n",
    "                                      random_state=3137)\n",
    "    final_xgb_clf.fit(data, labels)\n",
    "\n",
    "    return final_xgb_clf"
   ]
  },
  {
   "cell_type": "code",
   "execution_count": 12,
   "metadata": {},
   "outputs": [],
   "source": [
    "\n",
    "def plot_confusion_matrix(y_preds, y_true, labels=None):\n",
    "    cm = confusion_matrix(y_true, y_preds, normalize=\"true\")\n",
    "    fig, ax = plt.subplots(figsize=(number_of_labels, number_of_labels))\n",
    "    disp = ConfusionMatrixDisplay(confusion_matrix=cm, display_labels=labels) \n",
    "    disp.plot(cmap=\"Blues\", values_format=\".2f\", ax=ax, colorbar=False) \n",
    "    plt.title(\"Normalized confusion matrix\")\n",
    "    #plt.show()"
   ]
  },
  {
   "cell_type": "code",
   "execution_count": null,
   "metadata": {},
   "outputs": [],
   "source": [
    "\n",
    "\n",
    "# Train model\n",
    "xgb_model = train_model(data=train_embeddings_df, labels=y_train)\n",
    "\n",
    "# Predict from model on validation data\n",
    "y_pred_val = xgb_model.predict(val_embeddings_df)\n",
    "#y_pred_labels = [label_dict[x] for x in y_pred]\n",
    "y_pred_val = pd.Series(y_pred_val)\n",
    "\n",
    "\n",
    "# Predict from model on test data\n",
    "y_pred_test = xgb_model.predict(test_embeddings_df)\n",
    "#y_pred_labels = [label_dict[x] for x in y_pred]\n",
    "y_pred_test = pd.Series(y_pred_test)\n",
    "\n",
    "# Evaluate model (validation data)\n",
    "print(f\"Classification report:\\n{classification_report(y_val, y_pred_val)}\")\n",
    "print(plot_confusion_matrix(y_val, y_pred_val))\n",
    "\n",
    "# Evaluate model (test data)\n",
    "print(f\"Classification report:\\n{classification_report(y_val, y_pred_test)}\")\n",
    "print(plot_confusion_matrix(y_test, y_pred_test))"
   ]
  },
  {
   "cell_type": "code",
   "execution_count": 13,
   "metadata": {},
   "outputs": [
    {
     "name": "stderr",
     "output_type": "stream",
     "text": [
      "c:\\Users\\Bijan-PC\\AppData\\Local\\Programs\\Python\\Python312\\Lib\\site-packages\\huggingface_hub\\file_download.py:1132: FutureWarning: `resume_download` is deprecated and will be removed in version 1.0.0. Downloads always resume when possible. If you want to force a new download, use `force_download=True`.\n",
      "  warnings.warn(\n"
     ]
    },
    {
     "name": "stdout",
     "output_type": "stream",
     "text": [
      "Cleaned 300 records in dataset\n",
      "Cleaned 2400 records in dataset\n",
      "Cleaned 300 records in dataset\n",
      "Total number of records: 2400\n",
      "Num batches: 10\n"
     ]
    },
    {
     "name": "stderr",
     "output_type": "stream",
     "text": [
      "100%|██████████| 10/10 [00:00<00:00, 30.76it/s]\n"
     ]
    },
    {
     "name": "stdout",
     "output_type": "stream",
     "text": [
      "Total number of records: 300\n",
      "Num batches: 2\n"
     ]
    },
    {
     "name": "stderr",
     "output_type": "stream",
     "text": [
      "100%|██████████| 2/2 [00:00<00:00, 43.88it/s]\n"
     ]
    },
    {
     "name": "stdout",
     "output_type": "stream",
     "text": [
      "Total number of records: 300\n",
      "Num batches: 2\n"
     ]
    },
    {
     "name": "stderr",
     "output_type": "stream",
     "text": [
      "100%|██████████| 2/2 [00:00<00:00, 43.77it/s]\n"
     ]
    },
    {
     "name": "stdout",
     "output_type": "stream",
     "text": [
      "There are 1 GPU(s) available.\n",
      "We will use the GPU: NVIDIA GeForce RTX 4080 SUPER\n",
      "Number of rows in training data: 2400\n",
      "Fitting 5 folds for each of 20 candidates, totalling 100 fits\n"
     ]
    },
    {
     "name": "stderr",
     "output_type": "stream",
     "text": [
      "c:\\Users\\Bijan-PC\\AppData\\Local\\Programs\\Python\\Python312\\Lib\\site-packages\\xgboost\\core.py:160: UserWarning: [03:47:30] WARNING: C:\\buildkite-agent\\builds\\buildkite-windows-cpu-autoscaling-group-i-0b3782d1791676daf-1\\xgboost\\xgboost-ci-windows\\src\\common\\error_msg.cc:58: Falling back to prediction using DMatrix due to mismatched devices. This might lead to higher memory usage and slower performance. XGBoost is running on: cuda:0, while the input data is on: cpu.\n",
      "Potential solutions:\n",
      "- Use a data structure that matches the device ordinal in the booster.\n",
      "- Set the device for booster before call to inplace_predict.\n",
      "\n",
      "This warning will only be shown once.\n",
      "\n",
      "  warnings.warn(smsg, UserWarning)\n"
     ]
    },
    {
     "name": "stdout",
     "output_type": "stream",
     "text": [
      "[CV 1/5] END .............eta=0.05, max_depth=5;, score=0.793 total time=   1.5s\n",
      "[CV 2/5] END .............eta=0.05, max_depth=5;, score=0.799 total time=   1.6s\n",
      "[CV 3/5] END .............eta=0.05, max_depth=5;, score=0.826 total time=   1.5s\n",
      "[CV 4/5] END .............eta=0.05, max_depth=5;, score=0.824 total time=   1.6s\n",
      "[CV 5/5] END .............eta=0.05, max_depth=5;, score=0.787 total time=   1.5s\n",
      "[CV 1/5] END .............eta=0.05, max_depth=6;, score=0.794 total time=   2.5s\n",
      "[CV 2/5] END .............eta=0.05, max_depth=6;, score=0.798 total time=   2.5s\n",
      "[CV 3/5] END .............eta=0.05, max_depth=6;, score=0.820 total time=   2.3s\n",
      "[CV 4/5] END .............eta=0.05, max_depth=6;, score=0.830 total time=   2.4s\n",
      "[CV 5/5] END .............eta=0.05, max_depth=6;, score=0.792 total time=   2.4s\n",
      "[CV 1/5] END .............eta=0.05, max_depth=7;, score=0.786 total time=   3.3s\n",
      "[CV 2/5] END .............eta=0.05, max_depth=7;, score=0.787 total time=   3.3s\n",
      "[CV 3/5] END .............eta=0.05, max_depth=7;, score=0.816 total time=   3.3s\n",
      "[CV 4/5] END .............eta=0.05, max_depth=7;, score=0.826 total time=   3.3s\n",
      "[CV 5/5] END .............eta=0.05, max_depth=7;, score=0.792 total time=   3.2s\n",
      "[CV 1/5] END .............eta=0.05, max_depth=8;, score=0.780 total time=   4.2s\n",
      "[CV 2/5] END .............eta=0.05, max_depth=8;, score=0.779 total time=   4.1s\n",
      "[CV 3/5] END .............eta=0.05, max_depth=8;, score=0.813 total time=   4.2s\n",
      "[CV 4/5] END .............eta=0.05, max_depth=8;, score=0.822 total time=   4.2s\n",
      "[CV 5/5] END .............eta=0.05, max_depth=8;, score=0.787 total time=   4.1s\n",
      "[CV 1/5] END ..............eta=0.1, max_depth=5;, score=0.805 total time=   1.4s\n",
      "[CV 2/5] END ..............eta=0.1, max_depth=5;, score=0.811 total time=   1.4s\n",
      "[CV 3/5] END ..............eta=0.1, max_depth=5;, score=0.838 total time=   1.5s\n",
      "[CV 4/5] END ..............eta=0.1, max_depth=5;, score=0.835 total time=   1.7s\n",
      "[CV 5/5] END ..............eta=0.1, max_depth=5;, score=0.810 total time=   1.5s\n",
      "[CV 1/5] END ..............eta=0.1, max_depth=6;, score=0.808 total time=   2.4s\n",
      "[CV 2/5] END ..............eta=0.1, max_depth=6;, score=0.814 total time=   2.4s\n",
      "[CV 3/5] END ..............eta=0.1, max_depth=6;, score=0.839 total time=   2.4s\n",
      "[CV 4/5] END ..............eta=0.1, max_depth=6;, score=0.844 total time=   2.5s\n",
      "[CV 5/5] END ..............eta=0.1, max_depth=6;, score=0.805 total time=   2.4s\n",
      "[CV 1/5] END ..............eta=0.1, max_depth=7;, score=0.807 total time=   3.1s\n",
      "[CV 2/5] END ..............eta=0.1, max_depth=7;, score=0.804 total time=   2.9s\n",
      "[CV 3/5] END ..............eta=0.1, max_depth=7;, score=0.826 total time=   2.9s\n",
      "[CV 4/5] END ..............eta=0.1, max_depth=7;, score=0.840 total time=   2.9s\n",
      "[CV 5/5] END ..............eta=0.1, max_depth=7;, score=0.808 total time=   2.9s\n",
      "[CV 1/5] END ..............eta=0.1, max_depth=8;, score=0.801 total time=   3.6s\n",
      "[CV 2/5] END ..............eta=0.1, max_depth=8;, score=0.798 total time=   3.5s\n",
      "[CV 3/5] END ..............eta=0.1, max_depth=8;, score=0.828 total time=   3.6s\n",
      "[CV 4/5] END ..............eta=0.1, max_depth=8;, score=0.832 total time=   3.5s\n",
      "[CV 5/5] END ..............eta=0.1, max_depth=8;, score=0.799 total time=   3.5s\n",
      "[CV 1/5] END eta=0.15000000000000002, max_depth=5;, score=0.810 total time=   1.5s\n",
      "[CV 2/5] END eta=0.15000000000000002, max_depth=5;, score=0.808 total time=   1.6s\n",
      "[CV 3/5] END eta=0.15000000000000002, max_depth=5;, score=0.844 total time=   1.5s\n",
      "[CV 4/5] END eta=0.15000000000000002, max_depth=5;, score=0.841 total time=   1.6s\n",
      "[CV 5/5] END eta=0.15000000000000002, max_depth=5;, score=0.808 total time=   1.6s\n",
      "[CV 1/5] END eta=0.15000000000000002, max_depth=6;, score=0.806 total time=   2.3s\n",
      "[CV 2/5] END eta=0.15000000000000002, max_depth=6;, score=0.813 total time=   2.3s\n",
      "[CV 3/5] END eta=0.15000000000000002, max_depth=6;, score=0.838 total time=   2.0s\n",
      "[CV 4/5] END eta=0.15000000000000002, max_depth=6;, score=0.843 total time=   2.2s\n",
      "[CV 5/5] END eta=0.15000000000000002, max_depth=6;, score=0.818 total time=   2.1s\n",
      "[CV 1/5] END eta=0.15000000000000002, max_depth=7;, score=0.816 total time=   2.6s\n",
      "[CV 2/5] END eta=0.15000000000000002, max_depth=7;, score=0.804 total time=   2.5s\n",
      "[CV 3/5] END eta=0.15000000000000002, max_depth=7;, score=0.835 total time=   2.7s\n",
      "[CV 4/5] END eta=0.15000000000000002, max_depth=7;, score=0.844 total time=   2.6s\n",
      "[CV 5/5] END eta=0.15000000000000002, max_depth=7;, score=0.809 total time=   2.6s\n",
      "[CV 1/5] END eta=0.15000000000000002, max_depth=8;, score=0.807 total time=   3.1s\n",
      "[CV 2/5] END eta=0.15000000000000002, max_depth=8;, score=0.805 total time=   3.1s\n",
      "[CV 3/5] END eta=0.15000000000000002, max_depth=8;, score=0.831 total time=   3.2s\n",
      "[CV 4/5] END eta=0.15000000000000002, max_depth=8;, score=0.836 total time=   3.1s\n",
      "[CV 5/5] END eta=0.15000000000000002, max_depth=8;, score=0.803 total time=   2.9s\n",
      "[CV 1/5] END ..............eta=0.2, max_depth=5;, score=0.820 total time=   1.4s\n",
      "[CV 2/5] END ..............eta=0.2, max_depth=5;, score=0.814 total time=   1.4s\n",
      "[CV 3/5] END ..............eta=0.2, max_depth=5;, score=0.839 total time=   1.4s\n",
      "[CV 4/5] END ..............eta=0.2, max_depth=5;, score=0.836 total time=   1.4s\n",
      "[CV 5/5] END ..............eta=0.2, max_depth=5;, score=0.818 total time=   1.4s\n",
      "[CV 1/5] END ..............eta=0.2, max_depth=6;, score=0.809 total time=   1.9s\n",
      "[CV 2/5] END ..............eta=0.2, max_depth=6;, score=0.810 total time=   1.9s\n",
      "[CV 3/5] END ..............eta=0.2, max_depth=6;, score=0.846 total time=   1.8s\n",
      "[CV 4/5] END ..............eta=0.2, max_depth=6;, score=0.840 total time=   1.9s\n",
      "[CV 5/5] END ..............eta=0.2, max_depth=6;, score=0.815 total time=   1.9s\n",
      "[CV 1/5] END ..............eta=0.2, max_depth=7;, score=0.810 total time=   2.1s\n",
      "[CV 2/5] END ..............eta=0.2, max_depth=7;, score=0.812 total time=   2.2s\n",
      "[CV 3/5] END ..............eta=0.2, max_depth=7;, score=0.838 total time=   2.2s\n",
      "[CV 4/5] END ..............eta=0.2, max_depth=7;, score=0.844 total time=   2.2s\n",
      "[CV 5/5] END ..............eta=0.2, max_depth=7;, score=0.811 total time=   2.2s\n",
      "[CV 1/5] END ..............eta=0.2, max_depth=8;, score=0.809 total time=   2.6s\n",
      "[CV 2/5] END ..............eta=0.2, max_depth=8;, score=0.809 total time=   2.6s\n",
      "[CV 3/5] END ..............eta=0.2, max_depth=8;, score=0.836 total time=   2.7s\n",
      "[CV 4/5] END ..............eta=0.2, max_depth=8;, score=0.834 total time=   2.6s\n",
      "[CV 5/5] END ..............eta=0.2, max_depth=8;, score=0.808 total time=   2.6s\n",
      "[CV 1/5] END .............eta=0.25, max_depth=5;, score=0.816 total time=   1.3s\n",
      "[CV 2/5] END .............eta=0.25, max_depth=5;, score=0.810 total time=   1.4s\n",
      "[CV 3/5] END .............eta=0.25, max_depth=5;, score=0.849 total time=   1.3s\n",
      "[CV 4/5] END .............eta=0.25, max_depth=5;, score=0.845 total time=   1.4s\n",
      "[CV 5/5] END .............eta=0.25, max_depth=5;, score=0.823 total time=   1.3s\n",
      "[CV 1/5] END .............eta=0.25, max_depth=6;, score=0.819 total time=   1.8s\n",
      "[CV 2/5] END .............eta=0.25, max_depth=6;, score=0.814 total time=   1.7s\n",
      "[CV 3/5] END .............eta=0.25, max_depth=6;, score=0.843 total time=   1.7s\n",
      "[CV 4/5] END .............eta=0.25, max_depth=6;, score=0.843 total time=   1.7s\n",
      "[CV 5/5] END .............eta=0.25, max_depth=6;, score=0.813 total time=   1.7s\n",
      "[CV 1/5] END .............eta=0.25, max_depth=7;, score=0.816 total time=   1.9s\n",
      "[CV 2/5] END .............eta=0.25, max_depth=7;, score=0.805 total time=   1.9s\n",
      "[CV 3/5] END .............eta=0.25, max_depth=7;, score=0.842 total time=   1.9s\n",
      "[CV 4/5] END .............eta=0.25, max_depth=7;, score=0.834 total time=   1.9s\n",
      "[CV 5/5] END .............eta=0.25, max_depth=7;, score=0.813 total time=   1.9s\n",
      "[CV 1/5] END .............eta=0.25, max_depth=8;, score=0.810 total time=   2.2s\n",
      "[CV 2/5] END .............eta=0.25, max_depth=8;, score=0.803 total time=   2.3s\n",
      "[CV 3/5] END .............eta=0.25, max_depth=8;, score=0.835 total time=   2.4s\n",
      "[CV 4/5] END .............eta=0.25, max_depth=8;, score=0.837 total time=   2.3s\n",
      "[CV 5/5] END .............eta=0.25, max_depth=8;, score=0.820 total time=   2.3s\n",
      "----------------------------------------------------------------------\n",
      "Evaluation on Validation Data\n",
      "Classification report:\n",
      "              precision    recall  f1-score   support\n",
      "\n",
      "           0       0.40      0.49      0.44        41\n",
      "           1       0.47      0.48      0.47        56\n",
      "           2       0.50      0.55      0.52        44\n",
      "           3       0.49      0.40      0.44        55\n",
      "           4       0.56      0.65      0.60        48\n",
      "           5       0.59      0.46      0.52        56\n",
      "\n",
      "    accuracy                           0.50       300\n",
      "   macro avg       0.50      0.50      0.50       300\n",
      "weighted avg       0.51      0.50      0.50       300\n",
      "\n",
      "None\n",
      "----------------------------------------------------------------------\n",
      "Evaluation on Test Data\n",
      "Classification report:\n",
      "              precision    recall  f1-score   support\n",
      "\n",
      "           0       0.49      0.42      0.45        52\n",
      "           1       0.54      0.60      0.57        42\n",
      "           2       0.47      0.49      0.48        49\n",
      "           3       0.65      0.51      0.57        59\n",
      "           4       0.45      0.71      0.55        41\n",
      "           5       0.50      0.42      0.46        57\n",
      "\n",
      "    accuracy                           0.51       300\n",
      "   macro avg       0.52      0.52      0.51       300\n",
      "weighted avg       0.52      0.51      0.51       300\n",
      "\n",
      "None\n"
     ]
    },
    {
     "data": {
      "image/png": "[encoded data removed]",
      "text/plain": [
       "<Figure size 600x600 with 1 Axes>"
      ]
     },
     "metadata": {},
     "output_type": "display_data"
    },
    {
     "data": {
      "image/png": "[encoded data removed]",
      "text/plain": [
       "<Figure size 600x600 with 1 Axes>"
      ]
     },
     "metadata": {},
     "output_type": "display_data"
    }
   ],
   "source": [
    "from BERT_XGBOOST import bert_xgboost\n",
    "\n",
    "bert_xgboost('twit_df_500.csv', 500, test=True)"
   ]
  },
  {
   "cell_type": "code",
   "execution_count": null,
   "metadata": {},
   "outputs": [],
   "source": []
  }
 ],
 "metadata": {
  "kernelspec": {
   "display_name": "Python 3",
   "language": "python",
   "name": "python3"
  },
  "language_info": {
   "codemirror_mode": {
    "name": "ipython",
    "version": 3
   },
   "file_extension": ".py",
   "mimetype": "text/x-python",
   "name": "python",
   "nbconvert_exporter": "python",
   "pygments_lexer": "ipython3",
   "version": "3.12.3"
  }
 },
 "nbformat": 4,
 "nbformat_minor": 2
}
